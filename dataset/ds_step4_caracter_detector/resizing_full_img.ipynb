{
 "cells": [
  {
   "cell_type": "code",
   "execution_count": 1,
   "metadata": {},
   "outputs": [],
   "source": [
    "import json\n",
    "import os \n",
    "from PIL import Image\n",
    "import cv2 as cv2\n",
    "import numpy as np\n",
    "\n",
    "import matplotlib.pyplot as plt\n",
    "%matplotlib inline"
   ]
  },
  {
   "cell_type": "code",
   "execution_count": 2,
   "metadata": {},
   "outputs": [],
   "source": [
    "IMG_PATH = './full_size/1/img/'  \n",
    "\n",
    "filenames = os.listdir(IMG_PATH)\n",
    "\n",
    "for filename in filenames:\n",
    "    \n",
    "\n",
    "    img = cv2.imread(IMG_PATH+filename)\n",
    "    img2 = cv2.cvtColor(img,cv2.COLOR_BGR2GRAY)\n",
    "    \n",
    "    #Center of chip cooridantes and radius:\n",
    "\n",
    "    img3 = cv2.resize(img2, (450,300))\n",
    "    \n",
    "\n",
    "    final = cv2.equalizeHist(img3.astype(np.uint8))\n",
    "    #plt.imshow(final)\n",
    "    #plt.show()\n",
    "\n",
    "    \n",
    "\n",
    "    #final_im.save('./full_size/chip_test/'+im_name)\n",
    "    cv2.imwrite( './resized/1/img/'+filename, final );\n",
    "\n"
   ]
  },
  {
   "cell_type": "code",
   "execution_count": null,
   "metadata": {},
   "outputs": [],
   "source": []
  }
 ],
 "metadata": {
  "kernelspec": {
   "display_name": "kernel_test",
   "language": "python",
   "name": "kernel_test"
  },
  "language_info": {
   "codemirror_mode": {
    "name": "ipython",
    "version": 3
   },
   "file_extension": ".py",
   "mimetype": "text/x-python",
   "name": "python",
   "nbconvert_exporter": "python",
   "pygments_lexer": "ipython3",
   "version": "3.6.7"
  }
 },
 "nbformat": 4,
 "nbformat_minor": 2
}
