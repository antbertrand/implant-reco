{
 "cells": [
  {
   "cell_type": "code",
   "execution_count": 2,
   "metadata": {},
   "outputs": [
    {
     "name": "stdout",
     "output_type": "stream",
     "text": [
      "FULL-2019-04-26-154943.png\n",
      "FULL-2019-05-16-141629.png\n",
      "FULL-2019-05-16-150646.png\n",
      "FULL-2019-04-26-144803.png\n",
      "FULL-2019-04-26-134020.png\n",
      "FULL-2019-04-26-121832.png\n",
      "FULL-2019-05-16-145009.png\n",
      "FULL-2019-04-26-140104.png\n",
      "FULL-2019-05-16-142730.png\n",
      "FULL-2019-04-26-155958.png\n",
      "FULL-2019-05-16-145239.png\n",
      "FULL-2019-05-16-150419.png\n",
      "FULL-2019-04-26-144500.png\n",
      "FULL-2019-04-26-154257.png\n",
      "FULL-2019-05-16-150042.png\n",
      "FULL-2019-04-26-144724.png\n",
      "Image__2019-05-16__11-11-13.png\n",
      "Image__2019-05-16__14-14-59.png\n",
      "FULL-2019-05-16-151842.png\n",
      "FULL-2019-04-26-152959.png\n",
      "FULL-2019-04-26-145917.png\n",
      "FULL-2019-04-26-153611.png\n",
      "FULL-2019-04-26-140123.png\n",
      "FULL-2019-05-16-143925.png\n",
      "FULL-2019-05-16-150015.png\n",
      "FULL-2019-05-16-143501.png\n",
      "FULL-2019-04-26-160938.png\n",
      "FULL-2019-04-26-150916.png\n",
      "FULL-2019-04-26-153332.png\n",
      "FULL-2019-04-26-144746.png\n",
      "FULL-2019-04-26-140937.png\n",
      "FULL-2019-05-16-151717.png\n",
      "FULL-2019-04-26-154701.png\n",
      "FULL-2019-04-26-161409.png\n",
      "FULL-2019-05-16-143218.png\n",
      "FULL-2019-05-16-144802.png\n",
      "FULL-2019-04-26-160236.png\n",
      "FULL-2019-04-26-151235.png\n",
      "FULL-2019-05-16-145625.png\n"
     ]
    }
   ],
   "source": [
    "import csv\n",
    "\n",
    "with open('../files_test.csv', 'r') as csvFile:\n",
    "    reader = csv.reader(csvFile)\n",
    "    for row in reader:\n",
    "        filename = row[0]\n",
    "        print(filename)\n",
    "        \n",
    "    "
   ]
  },
  {
   "cell_type": "code",
   "execution_count": null,
   "metadata": {},
   "outputs": [],
   "source": []
  }
 ],
 "metadata": {
  "kernelspec": {
   "display_name": "kernel_test",
   "language": "python",
   "name": "kernel_test"
  },
  "language_info": {
   "codemirror_mode": {
    "name": "ipython",
    "version": 3
   },
   "file_extension": ".py",
   "mimetype": "text/x-python",
   "name": "python",
   "nbconvert_exporter": "python",
   "pygments_lexer": "ipython3",
   "version": "3.6.7"
  }
 },
 "nbformat": 4,
 "nbformat_minor": 2
}
