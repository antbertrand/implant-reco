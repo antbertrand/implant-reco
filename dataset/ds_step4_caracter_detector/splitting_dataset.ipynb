{
 "cells": [
  {
   "cell_type": "code",
   "execution_count": 9,
   "metadata": {},
   "outputs": [],
   "source": [
    "import json\n",
    "import os \n",
    "from PIL import Image\n",
    "import cv2 as cv2\n",
    "import numpy as np\n",
    "from shutil import move\n",
    "\n",
    "\n",
    "import matplotlib.pyplot as plt\n",
    "%matplotlib inline"
   ]
  },
  {
   "cell_type": "code",
   "execution_count": 11,
   "metadata": {},
   "outputs": [],
   "source": [
    "IMG_PATH = './resized/mixed/img_val/'  \n",
    "INPUT_PATH_1 = './full_size/1/img/'\n",
    "INPUT_PATH_2 = './full_size/2/img/'\n",
    "OUTPUT_PATH = './full_size/mixed/img_val/'\n",
    "filenames = os.listdir(IMG_PATH)\n",
    "\n",
    "for filename in filenames:\n",
    "\n",
    "    exists = os.path.isfile(INPUT_PATH_1+filename)\n",
    "    if exists:\n",
    "        move(INPUT_PATH_1+filename, OUTPUT_PATH+filename)\n",
    "    else:\n",
    "        move(INPUT_PATH_2+filename, OUTPUT_PATH+filename)\n",
    "\n",
    "\n",
    "\n",
    "\n"
   ]
  },
  {
   "cell_type": "code",
   "execution_count": null,
   "metadata": {},
   "outputs": [],
   "source": []
  }
 ],
 "metadata": {
  "kernelspec": {
   "display_name": "kernel_test",
   "language": "python",
   "name": "kernel_test"
  },
  "language_info": {
   "codemirror_mode": {
    "name": "ipython",
    "version": 3
   },
   "file_extension": ".py",
   "mimetype": "text/x-python",
   "name": "python",
   "nbconvert_exporter": "python",
   "pygments_lexer": "ipython3",
   "version": "3.6.7"
  }
 },
 "nbformat": 4,
 "nbformat_minor": 2
}
