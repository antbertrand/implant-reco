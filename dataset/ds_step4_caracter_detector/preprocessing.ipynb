{
 "cells": [
  {
   "cell_type": "code",
   "execution_count": 1,
   "metadata": {},
   "outputs": [],
   "source": [
    "import json\n",
    "import os, os.path\n",
    "from PIL import Image\n",
    "import cv2 as cv2\n",
    "import numpy as np\n",
    "\n",
    "import matplotlib.pyplot as plt\n",
    "%matplotlib inline"
   ]
  },
  {
   "cell_type": "code",
   "execution_count": null,
   "metadata": {},
   "outputs": [],
   "source": [
    "CHIP_PATH = './full_size/chip_test/'  \n",
    "\n",
    "filenames = os.listdir(JSON_PATH)\n",
    "\n",
    "for filename in filenames:\n",
    "    \n",
    "    print(filename)\n",
    "    \n",
    "    #Read JSON data into the datastore variable\n",
    "    if filename:\n",
    "        with open(JSON_PATH + filename, 'r') as f:\n",
    "            x = json.load(f)\n",
    "    xmin = x['objects'][0]['points']['exterior'][0][0]\n",
    "    ymin = x['objects'][0]['points']['exterior'][0][1]\n",
    "    xmax = x['objects'][0]['points']['exterior'][1][0]\n",
    "    ymax = x['objects'][0]['points']['exterior'][1][1]\n",
    "\n",
    "    im_name = filename[:-5]\n",
    "    img = Image.open('./full_size/img/'+im_name)\n",
    "    area = (xmin, ymin, xmax, ymax)\n",
    "    cropped_img = img.crop(area)\n",
    "    print('ça_crop')\n",
    "    #cropped_img.show()\n",
    "    cropped_img.save('./full_size/chip/'+im_name)\n",
    "\n",
    "\n",
    "\n",
    "    fig=plt.figure(figsize=(100, 100), dpi= 20, facecolor='w', edgecolor='k')    \n",
    "    plt.set_cmap('gist_gray')\n",
    "    plt.imshow(cimg)\n",
    "    plt.show()\n",
    "\n",
    "mask = np.zeros(size, np.uint8)"
   ]
  },
  {
   "cell_type": "code",
   "execution_count": 4,
   "metadata": {},
   "outputs": [],
   "source": [
    "path = './full_size/chip_test/'  \n",
    "imgs = os.listdir(path)\n",
    "\n",
    "for im in imgs:\n",
    "    \n",
    "    img = cv2.imread(path+im)\n",
    "    \n",
    "    cimg = cv2.cvtColor(img,cv2.COLOR_BGR2GRAY)\n",
    "\n",
    "    smallest = np.amin(cimg)\n",
    "\n",
    "    cimg = cimg - smallest\n",
    "    \n",
    "    biggest = np.amax(cimg)\n",
    "    \n",
    "    cimg = cimg*(1/biggest)\n",
    "    \n",
    "    cimg2 = cv2.equalizeHist(cimg)\n",
    "\n",
    "    \n",
    "\n",
    "\n"
   ]
  },
  {
   "cell_type": "code",
   "execution_count": 5,
   "metadata": {},
   "outputs": [
    {
     "name": "stdout",
     "output_type": "stream",
     "text": [
      "./full_size/chip_test/FULL-2019-04-26-121408.png\n"
     ]
    },
    {
     "ename": "error",
     "evalue": "OpenCV(4.0.0) /io/opencv/modules/imgproc/src/color.cpp:181: error: (-215:Assertion failed) !_src.empty() in function 'cvtColor'\n",
     "output_type": "error",
     "traceback": [
      "\u001b[0;31m---------------------------------------------------------------------------\u001b[0m",
      "\u001b[0;31merror\u001b[0m                                     Traceback (most recent call last)",
      "\u001b[0;32m<ipython-input-5-2edf88f9c179>\u001b[0m in \u001b[0;36m<module>\u001b[0;34m\u001b[0m\n\u001b[1;32m      5\u001b[0m \u001b[0mimg\u001b[0m \u001b[0;34m=\u001b[0m \u001b[0mcv2\u001b[0m\u001b[0;34m.\u001b[0m\u001b[0mimread\u001b[0m\u001b[0;34m(\u001b[0m\u001b[0mpath\u001b[0m\u001b[0;34m+\u001b[0m\u001b[0mim\u001b[0m\u001b[0;34m)\u001b[0m\u001b[0;34m\u001b[0m\u001b[0;34m\u001b[0m\u001b[0m\n\u001b[1;32m      6\u001b[0m \u001b[0;34m\u001b[0m\u001b[0m\n\u001b[0;32m----> 7\u001b[0;31m \u001b[0mcimg\u001b[0m \u001b[0;34m=\u001b[0m \u001b[0mcv2\u001b[0m\u001b[0;34m.\u001b[0m\u001b[0mcvtColor\u001b[0m\u001b[0;34m(\u001b[0m\u001b[0mimg\u001b[0m\u001b[0;34m,\u001b[0m\u001b[0mcv2\u001b[0m\u001b[0;34m.\u001b[0m\u001b[0mCOLOR_BGR2GRAY\u001b[0m\u001b[0;34m)\u001b[0m\u001b[0;34m\u001b[0m\u001b[0;34m\u001b[0m\u001b[0m\n\u001b[0m\u001b[1;32m      8\u001b[0m \u001b[0mprint\u001b[0m\u001b[0;34m(\u001b[0m\u001b[0mcimg\u001b[0m\u001b[0;34m[\u001b[0m\u001b[0;36m500\u001b[0m\u001b[0;34m:\u001b[0m\u001b[0;36m550\u001b[0m\u001b[0;34m]\u001b[0m\u001b[0;34m)\u001b[0m\u001b[0;34m\u001b[0m\u001b[0;34m\u001b[0m\u001b[0m\n\u001b[1;32m      9\u001b[0m \u001b[0mprint\u001b[0m\u001b[0;34m(\u001b[0m\u001b[0mcimg\u001b[0m\u001b[0;34m.\u001b[0m\u001b[0mshape\u001b[0m\u001b[0;34m)\u001b[0m\u001b[0;34m\u001b[0m\u001b[0;34m\u001b[0m\u001b[0m\n",
      "\u001b[0;31merror\u001b[0m: OpenCV(4.0.0) /io/opencv/modules/imgproc/src/color.cpp:181: error: (-215:Assertion failed) !_src.empty() in function 'cvtColor'\n"
     ]
    }
   ],
   "source": [
    "path = './full_size/chip_test/'  \n",
    "im = 'FULL-2019-04-26-121408.png'\n",
    "\n",
    "print(path+im)\n",
    "img = cv2.imread(path+im)\n",
    "\n",
    "cimg = cv2.cvtColor(img,cv2.COLOR_BGR2GRAY)\n",
    "print(cimg[500:550])\n",
    "print(cimg.shape)\n",
    "smallest = np.amin(cimg)\n",
    "biggest = np.amax(cimg)\n",
    "\n",
    "print(biggest)\n",
    "plt.imshow(cimg)\n",
    "plt.show\n",
    "\n",
    "\n"
   ]
  },
  {
   "cell_type": "code",
   "execution_count": null,
   "metadata": {},
   "outputs": [],
   "source": []
  }
 ],
 "metadata": {
  "kernelspec": {
   "display_name": "Python 3",
   "language": "python",
   "name": "python3"
  },
  "language_info": {
   "codemirror_mode": {
    "name": "ipython",
    "version": 3
   },
   "file_extension": ".py",
   "mimetype": "text/x-python",
   "name": "python",
   "nbconvert_exporter": "python",
   "pygments_lexer": "ipython3",
   "version": "3.6.8"
  }
 },
 "nbformat": 4,
 "nbformat_minor": 2
}
