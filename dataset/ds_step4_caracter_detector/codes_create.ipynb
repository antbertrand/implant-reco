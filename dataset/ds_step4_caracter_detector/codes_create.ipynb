{
 "cells": [
  {
   "cell_type": "code",
   "execution_count": 1,
   "metadata": {},
   "outputs": [],
   "source": [
    "import csv\n",
    "import os"
   ]
  },
  {
   "cell_type": "code",
   "execution_count": 80,
   "metadata": {},
   "outputs": [],
   "source": [
    "IMAGE_PATH = '/home/numericube/Documents/current_projects/gcaesthetics-implantbox/dataset/ds_step4_caracter_detector/img_val/'\n",
    "\n",
    "files = os.listdir(IMAGE_PATH)\n",
    "\n",
    "with open('codes_val.csv', 'w') as csvfile:\n",
    "    spamwriter = csv.writer(csvfile, delimiter=',',\n",
    "                            quotechar='|', quoting=csv.QUOTE_MINIMAL)\n",
    "    \n",
    "    \n",
    "    for file in files:\n",
    "        spamwriter.writerow([file])"
   ]
  },
  {
   "cell_type": "code",
   "execution_count": 28,
   "metadata": {},
   "outputs": [
    {
     "data": {
      "text/html": [
       "<div>\n",
       "<style scoped>\n",
       "    .dataframe tbody tr th:only-of-type {\n",
       "        vertical-align: middle;\n",
       "    }\n",
       "\n",
       "    .dataframe tbody tr th {\n",
       "        vertical-align: top;\n",
       "    }\n",
       "\n",
       "    .dataframe thead th {\n",
       "        text-align: right;\n",
       "    }\n",
       "</style>\n",
       "<table border=\"1\" class=\"dataframe\">\n",
       "  <thead>\n",
       "    <tr style=\"text-align: right;\">\n",
       "      <th></th>\n",
       "      <th>image_name</th>\n",
       "      <th>line1</th>\n",
       "      <th>line2</th>\n",
       "      <th>line3</th>\n",
       "      <th>quality</th>\n",
       "      <th>read</th>\n",
       "    </tr>\n",
       "  </thead>\n",
       "  <tbody>\n",
       "    <tr>\n",
       "      <th>0</th>\n",
       "      <td>FULL-2019-04-26-121832.png</td>\n",
       "      <td>AB091</td>\n",
       "      <td>14/C50CC</td>\n",
       "      <td>M2020</td>\n",
       "      <td>3</td>\n",
       "      <td>1</td>\n",
       "    </tr>\n",
       "    <tr>\n",
       "      <th>1</th>\n",
       "      <td>FULL-2019-04-26-134020.png</td>\n",
       "      <td>AA207</td>\n",
       "      <td>TMF2/250CC</td>\n",
       "      <td>M0658</td>\n",
       "      <td>3</td>\n",
       "      <td>1</td>\n",
       "    </tr>\n",
       "    <tr>\n",
       "      <th>2</th>\n",
       "      <td>FULL-2019-04-26-140104.png</td>\n",
       "      <td>AB091</td>\n",
       "      <td>19/500CC</td>\n",
       "      <td>M2029</td>\n",
       "      <td>1</td>\n",
       "      <td>1</td>\n",
       "    </tr>\n",
       "    <tr>\n",
       "      <th>3</th>\n",
       "      <td>FULL-2019-04-26-140123.png</td>\n",
       "      <td>AB091</td>\n",
       "      <td>00CC</td>\n",
       "      <td>M209</td>\n",
       "      <td>0</td>\n",
       "      <td>0</td>\n",
       "    </tr>\n",
       "    <tr>\n",
       "      <th>4</th>\n",
       "      <td>FULL-2019-04-26-140937.png</td>\n",
       "      <td>AB091</td>\n",
       "      <td>TMF2/150CC</td>\n",
       "      <td>M2032</td>\n",
       "      <td>2</td>\n",
       "      <td>1</td>\n",
       "    </tr>\n",
       "  </tbody>\n",
       "</table>\n",
       "</div>"
      ],
      "text/plain": [
       "                   image_name   line1        line2   line3   quality   read\n",
       "0  FULL-2019-04-26-121832.png   AB091     14/C50CC   M2020         3      1\n",
       "1  FULL-2019-04-26-134020.png   AA207   TMF2/250CC   M0658         3      1\n",
       "2  FULL-2019-04-26-140104.png   AB091     19/500CC   M2029         1      1\n",
       "3  FULL-2019-04-26-140123.png   AB091         00CC    M209         0      0\n",
       "4  FULL-2019-04-26-140937.png   AB091   TMF2/150CC   M2032         2      1"
      ]
     },
     "execution_count": 28,
     "metadata": {},
     "output_type": "execute_result"
    }
   ],
   "source": [
    "import pandas as pd \n",
    "\n",
    "data_code = pd.read_csv(\"codes_test.csv\") \n",
    "data_code.head()"
   ]
  },
  {
   "cell_type": "code",
   "execution_count": 78,
   "metadata": {
    "scrolled": true
   },
   "outputs": [
    {
     "name": "stdout",
     "output_type": "stream",
     "text": [
      "<class 'pandas.core.frame.DataFrame'>\n",
      "2\n",
      "[' AB091', ' 19/500CC', ' M2029']\n"
     ]
    }
   ],
   "source": [
    "ligne =data_code.loc[data_code['image_name'] == 'FULL-2019-04-26-140104.png']\n",
    "print(type(ligne))\n",
    "yes = ligne.iloc[0,4]\n",
    "print(yes + yes)\n",
    "\n",
    "code = [ ligne.iloc[0,1], ligne.iloc[0,2] ,ligne.iloc[0,3]]\n",
    "print(code)"
   ]
  },
  {
   "cell_type": "code",
   "execution_count": 25,
   "metadata": {},
   "outputs": [
    {
     "data": {
      "text/plain": [
       "Index(['image_name', ' line1', ' line2', ' line3', ' quality', ' read'], dtype='object')"
      ]
     },
     "execution_count": 25,
     "metadata": {},
     "output_type": "execute_result"
    }
   ],
   "source": [
    "data_code.columns"
   ]
  },
  {
   "cell_type": "code",
   "execution_count": 43,
   "metadata": {},
   "outputs": [
    {
     "name": "stdout",
     "output_type": "stream",
     "text": [
      "[0, 1, 2, 3, 4, 5, 6, 7, 8, 9, 10, 11, 12, 13, 14]\n"
     ]
    }
   ],
   "source": [
    "piou = list(range(15))\n",
    "print(piou)"
   ]
  },
  {
   "cell_type": "code",
   "execution_count": 44,
   "metadata": {},
   "outputs": [
    {
     "data": {
      "text/plain": [
       "'coucou.txt'"
      ]
     },
     "execution_count": 44,
     "metadata": {},
     "output_type": "execute_result"
    }
   ],
   "source": [
    "os.path.basename('/home/truite/coucou.txt')"
   ]
  },
  {
   "cell_type": "code",
   "execution_count": 111,
   "metadata": {},
   "outputs": [
    {
     "name": "stdout",
     "output_type": "stream",
     "text": [
      "0\n",
      "[2, 3, 0, 2, 1]\n",
      "[1, 0, 3, 4, 2]\n",
      "[0, 1, 3]\n"
     ]
    },
    {
     "data": {
      "text/plain": [
       "[[2, 3], [1, 0, 0], [3, 4]]"
      ]
     },
     "execution_count": 111,
     "metadata": {},
     "output_type": "execute_result"
    }
   ],
   "source": [
    "a = [[2,3],[1,0,0],[],[3,4],[4]]\n",
    "print(len(a[2]))\n",
    "b = [len(i) for i in a]\n",
    "\n",
    "print(b)\n",
    "print(sorted(range(len(b)), reverse = True, key=lambda k: b[k]))\n",
    "infos_sorted = sorted(range(len(b)), reverse = True, key=lambda k: b[k])\n",
    "index_final = infos_sorted[0:3]\n",
    "index_final = sorted(index_final)\n",
    "print(index_final)\n",
    "[a[i] for i in index_final]\n"
   ]
  },
  {
   "cell_type": "code",
   "execution_count": null,
   "metadata": {},
   "outputs": [],
   "source": []
  }
 ],
 "metadata": {
  "kernelspec": {
   "display_name": "Python 3",
   "language": "python",
   "name": "python3"
  },
  "language_info": {
   "codemirror_mode": {
    "name": "ipython",
    "version": 3
   },
   "file_extension": ".py",
   "mimetype": "text/x-python",
   "name": "python",
   "nbconvert_exporter": "python",
   "pygments_lexer": "ipython3",
   "version": "3.6.8"
  }
 },
 "nbformat": 4,
 "nbformat_minor": 2
}
